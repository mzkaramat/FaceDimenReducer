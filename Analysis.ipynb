{
 "cells": [
  {
   "cell_type": "code",
   "execution_count": 10,
   "metadata": {
    "collapsed": false
   },
   "outputs": [
    {
     "name": "stdout",
     "output_type": "stream",
     "text": [
      "Downloaded file\n",
      "Unzipping file\n",
      "Listing extracted files\n",
      "subset3\n",
      "subset0\n",
      "subset1\n",
      "subset2\n",
      "subset4\n",
      "Proceeding with further analysis\n"
     ]
    }
   ],
   "source": [
    "#Initializing files\n",
    "import urllib\n",
    "import zipfile\n",
    "import os\n",
    "\n",
    "#Some initialization\n",
    "url= 'https://raw.githubusercontent.com/mzkaramat/FaceDimenReducer/master/Assignment%202%20Data.zip'\n",
    "file_name = \"yale_dt.zip\"\n",
    "directory_to_extract_to = './yale_dt'\n",
    "\n",
    "#Download dataset lcoally\n",
    "testfile = urllib.URLopener()\n",
    "testfile.retrieve(url, file_name)\n",
    "print('Downloaded file')\n",
    "\n",
    "#Creating separate directory\n",
    "if not os.path.exists(directory_to_extract_to):\n",
    "    os.makedirs(directory_to_extract_to)\n",
    "    print('Created directory')\n",
    "    \n",
    "#Extracting zip file\n",
    "zip_ref = zipfile.ZipFile(file_name, 'r')\n",
    "zip_ref.extractall(directory_to_extract_to)\n",
    "zip_ref.close()\n",
    "print('Unzipping file')\n",
    "\n",
    "#updating path\n",
    "directory = directory_to_extract_to+'/yaleBfaces'\n",
    "    \n",
    "#printing directories for verification\n",
    "print('Listing extracted files')\n",
    "for file in os.listdir(directory):\n",
    "    print(file)\n",
    "    \n",
    "print('Proceeding with further analysis')"
   ]
  },
  {
   "cell_type": "code",
   "execution_count": null,
   "metadata": {
    "collapsed": true
   },
   "outputs": [],
   "source": []
  }
 ],
 "metadata": {
  "kernelspec": {
   "display_name": "Python 2",
   "language": "python",
   "name": "python2"
  },
  "language_info": {
   "codemirror_mode": {
    "name": "ipython",
    "version": 2
   },
   "file_extension": ".py",
   "mimetype": "text/x-python",
   "name": "python",
   "nbconvert_exporter": "python",
   "pygments_lexer": "ipython2",
   "version": "2.7.12"
  },
  "widgets": {
   "state": {},
   "version": "1.1.2"
  }
 },
 "nbformat": 4,
 "nbformat_minor": 0
}
